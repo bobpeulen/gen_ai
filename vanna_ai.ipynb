{
 "cells": [
  {
   "cell_type": "markdown",
   "id": "6f99b937",
   "metadata": {},
   "source": [
    "----"
   ]
  },
  {
   "cell_type": "markdown",
   "id": "560e5dbd",
   "metadata": {},
   "source": [
    "# **Vanna AI - Default Set up**"
   ]
  },
  {
   "cell_type": "markdown",
   "id": "9f9fb71d",
   "metadata": {},
   "source": [
    "-----"
   ]
  },
  {
   "cell_type": "code",
   "execution_count": null,
   "id": "f2d85077",
   "metadata": {},
   "outputs": [],
   "source": [
    "#Install conda env with Python version 3.9. For example \"conda install -s pytorch20_p39_gpu_v2\""
   ]
  },
  {
   "cell_type": "code",
   "execution_count": null,
   "id": "6c22aa96",
   "metadata": {},
   "outputs": [],
   "source": [
    "# %pip install 'vanna[chromadb,mistralai]'\n",
    "# !pip install chromadb"
   ]
  },
  {
   "cell_type": "markdown",
   "id": "bb9f3951",
   "metadata": {},
   "source": [
    "## Services used\n",
    "- LLM: Mistral\n",
    "- Vector db: Chroma\n",
    "- Database: Autonomous Database"
   ]
  },
  {
   "cell_type": "markdown",
   "id": "df0fa32e",
   "metadata": {},
   "source": [
    "## **Define Chroma Vector DB and Mistral**"
   ]
  },
  {
   "cell_type": "code",
   "execution_count": 1,
   "id": "9edba4b8",
   "metadata": {},
   "outputs": [],
   "source": [
    "import vanna as vn\n",
    "from vanna.remote import VannaDefault\n",
    "from vanna.chromadb.chromadb_vector import ChromaDB_VectorStore\n",
    "from vanna.mistral.mistral import Mistral"
   ]
  },
  {
   "cell_type": "code",
   "execution_count": 2,
   "id": "1ff13114",
   "metadata": {},
   "outputs": [
    {
     "name": "stdin",
     "output_type": "stream",
     "text": [
      "Check your email for the code and enter it here:  GU1D0M\n"
     ]
    }
   ],
   "source": [
    "\n",
    "# api_key = vanna.get_api_key('peulenbob@gmail.com')\n",
    "\n",
    "# vanna_model_name = \"namexx1\"\n",
    "# # vn = VannaDefault(model=vanna_model_name, api_key=api_key)\n",
    "# vn = VannaDefault(model='chinook', api_key='8c6abfd3be2344469c53d51232f3d9bb')"
   ]
  },
  {
   "cell_type": "code",
   "execution_count": 5,
   "id": "49505dfc",
   "metadata": {},
   "outputs": [
    {
     "name": "stdin",
     "output_type": "stream",
     "text": [
      "Check your email for the code and enter it here:  FJ2QNU\n"
     ]
    }
   ],
   "source": [
    "api_key = vn.get_api_key('peulenbob@gmail.com')\n",
    "vn.set_api_key(api_key)"
   ]
  },
  {
   "cell_type": "code",
   "execution_count": 6,
   "id": "b5a584ca",
   "metadata": {},
   "outputs": [
    {
     "name": "stdin",
     "output_type": "stream",
     "text": [
      "Would you like to create model 'my-model-0test'? (y/n):  y\n",
      "What type of database would you like to use? (Snowflake, BigQuery, Postgres, etc.):  Oracle\n"
     ]
    }
   ],
   "source": [
    "vn.set_model('my-model-0test') "
   ]
  },
  {
   "cell_type": "markdown",
   "id": "5bb2b72a",
   "metadata": {},
   "source": [
    "## **Database**"
   ]
  },
  {
   "cell_type": "code",
   "execution_count": 34,
   "id": "69d08f42",
   "metadata": {},
   "outputs": [
    {
     "data": {
      "text/html": [
       "<div>\n",
       "<style scoped>\n",
       "    .dataframe tbody tr th:only-of-type {\n",
       "        vertical-align: middle;\n",
       "    }\n",
       "\n",
       "    .dataframe tbody tr th {\n",
       "        vertical-align: top;\n",
       "    }\n",
       "\n",
       "    .dataframe thead th {\n",
       "        text-align: right;\n",
       "    }\n",
       "</style>\n",
       "<table border=\"1\" class=\"dataframe\">\n",
       "  <thead>\n",
       "    <tr style=\"text-align: right;\">\n",
       "      <th></th>\n",
       "      <th>DATE_ISSUED</th>\n",
       "      <th>LICENSE_TYPE</th>\n",
       "      <th>LICENSE_STATUS</th>\n",
       "      <th>REGION</th>\n",
       "      <th>LICENSE_ID</th>\n",
       "      <th>ANNUAL_FEE__$_</th>\n",
       "      <th>NUMBER_OF_EMPLOYEES</th>\n",
       "      <th>RENEWAL_DATE</th>\n",
       "      <th>COMPLIANCE_RATING__1_5_</th>\n",
       "      <th>ASSOCIATED_BUSINESS_ACTIVITY</th>\n",
       "      <th>OWNERSHIP_TYPE</th>\n",
       "      <th>BUSINESS_SIZE_CATEGORY</th>\n",
       "      <th>COMPLAINTS_OR_VIOLATIONS_RECORDED</th>\n",
       "      <th>REVENUE_RANGE</th>\n",
       "      <th>COMMUNITY_IMPACT_SCORE</th>\n",
       "    </tr>\n",
       "  </thead>\n",
       "  <tbody>\n",
       "    <tr>\n",
       "      <th>0</th>\n",
       "      <td>2024-04-03</td>\n",
       "      <td>Professional License</td>\n",
       "      <td>Pending</td>\n",
       "      <td>Business Bay</td>\n",
       "      <td>LIC53618</td>\n",
       "      <td>1871.857513</td>\n",
       "      <td>49</td>\n",
       "      <td>2024-02-12</td>\n",
       "      <td>4.467349</td>\n",
       "      <td>Consultancy</td>\n",
       "      <td>Locally Owned</td>\n",
       "      <td>Small</td>\n",
       "      <td>None</td>\n",
       "      <td>$100k-$500k</td>\n",
       "      <td>5</td>\n",
       "    </tr>\n",
       "    <tr>\n",
       "      <th>1</th>\n",
       "      <td>2024-03-23</td>\n",
       "      <td>Professional License</td>\n",
       "      <td>Suspended</td>\n",
       "      <td>Downtown Dubai</td>\n",
       "      <td>LIC63344</td>\n",
       "      <td>4869.475676</td>\n",
       "      <td>47</td>\n",
       "      <td>2024-09-20</td>\n",
       "      <td>1.329835</td>\n",
       "      <td>Consultancy</td>\n",
       "      <td>Joint Venture</td>\n",
       "      <td>Medium</td>\n",
       "      <td>4-7 Complaints</td>\n",
       "      <td>$100k-$500k</td>\n",
       "      <td>5</td>\n",
       "    </tr>\n",
       "    <tr>\n",
       "      <th>2</th>\n",
       "      <td>2024-06-15</td>\n",
       "      <td>General Trading License</td>\n",
       "      <td>Pending</td>\n",
       "      <td>Business Bay</td>\n",
       "      <td>LIC66268</td>\n",
       "      <td>580.742478</td>\n",
       "      <td>22</td>\n",
       "      <td>2024-07-04</td>\n",
       "      <td>3.122868</td>\n",
       "      <td>Retail</td>\n",
       "      <td>Foreign-Owned</td>\n",
       "      <td>Medium</td>\n",
       "      <td>1-3 Complaints</td>\n",
       "      <td>$500k-$1M</td>\n",
       "      <td>10</td>\n",
       "    </tr>\n",
       "    <tr>\n",
       "      <th>3</th>\n",
       "      <td>2024-07-10</td>\n",
       "      <td>Industrial License</td>\n",
       "      <td>Suspended</td>\n",
       "      <td>Jumeirah</td>\n",
       "      <td>LIC90936</td>\n",
       "      <td>685.733733</td>\n",
       "      <td>43</td>\n",
       "      <td>2024-07-14</td>\n",
       "      <td>1.735424</td>\n",
       "      <td>Tourism Services</td>\n",
       "      <td>Foreign-Owned</td>\n",
       "      <td>Large</td>\n",
       "      <td>1-3 Complaints</td>\n",
       "      <td>$100k-$500k</td>\n",
       "      <td>3</td>\n",
       "    </tr>\n",
       "    <tr>\n",
       "      <th>4</th>\n",
       "      <td>2024-02-07</td>\n",
       "      <td>E-Commerce License</td>\n",
       "      <td>Expired</td>\n",
       "      <td>Dubai Marina</td>\n",
       "      <td>LIC77230</td>\n",
       "      <td>3898.936354</td>\n",
       "      <td>44</td>\n",
       "      <td>2024-07-16</td>\n",
       "      <td>2.800636</td>\n",
       "      <td>Manufacturing</td>\n",
       "      <td>Locally Owned</td>\n",
       "      <td>Large</td>\n",
       "      <td>8+ Complaints</td>\n",
       "      <td>$100k-$500k</td>\n",
       "      <td>7</td>\n",
       "    </tr>\n",
       "  </tbody>\n",
       "</table>\n",
       "</div>"
      ],
      "text/plain": [
       "  DATE_ISSUED             LICENSE_TYPE LICENSE_STATUS          REGION  \\\n",
       "0  2024-04-03     Professional License        Pending    Business Bay   \n",
       "1  2024-03-23     Professional License      Suspended  Downtown Dubai   \n",
       "2  2024-06-15  General Trading License        Pending    Business Bay   \n",
       "3  2024-07-10       Industrial License      Suspended        Jumeirah   \n",
       "4  2024-02-07       E-Commerce License        Expired    Dubai Marina   \n",
       "\n",
       "  LICENSE_ID  ANNUAL_FEE__$_  NUMBER_OF_EMPLOYEES RENEWAL_DATE  \\\n",
       "0   LIC53618     1871.857513                   49   2024-02-12   \n",
       "1   LIC63344     4869.475676                   47   2024-09-20   \n",
       "2   LIC66268      580.742478                   22   2024-07-04   \n",
       "3   LIC90936      685.733733                   43   2024-07-14   \n",
       "4   LIC77230     3898.936354                   44   2024-07-16   \n",
       "\n",
       "   COMPLIANCE_RATING__1_5_ ASSOCIATED_BUSINESS_ACTIVITY OWNERSHIP_TYPE  \\\n",
       "0                 4.467349                  Consultancy  Locally Owned   \n",
       "1                 1.329835                  Consultancy  Joint Venture   \n",
       "2                 3.122868                       Retail  Foreign-Owned   \n",
       "3                 1.735424             Tourism Services  Foreign-Owned   \n",
       "4                 2.800636                Manufacturing  Locally Owned   \n",
       "\n",
       "  BUSINESS_SIZE_CATEGORY COMPLAINTS_OR_VIOLATIONS_RECORDED REVENUE_RANGE  \\\n",
       "0                  Small                              None   $100k-$500k   \n",
       "1                 Medium                    4-7 Complaints   $100k-$500k   \n",
       "2                 Medium                    1-3 Complaints     $500k-$1M   \n",
       "3                  Large                    1-3 Complaints   $100k-$500k   \n",
       "4                  Large                     8+ Complaints   $100k-$500k   \n",
       "\n",
       "   COMMUNITY_IMPACT_SCORE  \n",
       "0                       5  \n",
       "1                       5  \n",
       "2                      10  \n",
       "3                       3  \n",
       "4                       7  "
      ]
     },
     "execution_count": 34,
     "metadata": {},
     "output_type": "execute_result"
    }
   ],
   "source": [
    "import pandas as pd\n",
    "\n",
    "import ads\n",
    "\n",
    "user_name = \"BOB\"                         ## User name of the database, \n",
    "password = \"Blabla2022!!\"                          ## Password. Example \"password12345\"\n",
    "service_name = \"adwwest_high\"                      ## Service Name Example = \"db202112101358_high\"\n",
    "full_wallet_name = \"/home/datascience/ADW/Wallet_ADWWEST.zip\"      \n",
    "\n",
    "creds = {\n",
    "    \"user_name\": user_name,\n",
    "    \"password\":  password,\n",
    "    \"service_name\": service_name,\n",
    "    \"wallet_location\": full_wallet_name\n",
    "}\n",
    "\n",
    "def run_sql(sql):\n",
    "    df_information_schema = pd.DataFrame.ads.read_sql(sql,connection_parameters=creds)\n",
    "    dfx = pd.DataFrame(df_information_schema)\n",
    "    return dfx\n",
    "\n",
    "# # This gives the package a function that it can use to run the SQL\n",
    "dfx = vn.run_sql = run_sql(\"select * from DCC_DATA_1\")\n",
    "vn.run_sql_is_set = True\n",
    "dfx.head()"
   ]
  },
  {
   "cell_type": "markdown",
   "id": "fbe3c309",
   "metadata": {},
   "source": [
    "## **Train Vanna Model on Schema**"
   ]
  },
  {
   "cell_type": "code",
   "execution_count": null,
   "id": "0eeb7269",
   "metadata": {},
   "outputs": [],
   "source": [
    "vn.train(ddl=\"\"\"\n",
    "CREATE TABLE DCC_DATA_1 \n",
    "    ( \n",
    "     DATE_ISSUED                       DATE , \n",
    "     LICENSE_TYPE                      VARCHAR2 (64) , \n",
    "     LICENSE_STATUS                    VARCHAR2 (64) , \n",
    "     REGION                            VARCHAR2 (64) , \n",
    "     LICENSE_ID                        VARCHAR2 (64) , \n",
    "     ANNUAL_FEE__$_                    NUMBER , \n",
    "     NUMBER_OF_EMPLOYEES               NUMBER , \n",
    "     RENEWAL_DATE                      DATE , \n",
    "     COMPLIANCE_RATING__1_5_           NUMBER , \n",
    "     ASSOCIATED_BUSINESS_ACTIVITY      VARCHAR2 (64) , \n",
    "     OWNERSHIP_TYPE                    VARCHAR2 (64) , \n",
    "     BUSINESS_SIZE_CATEGORY            VARCHAR2 (64) , \n",
    "     COMPLAINTS_OR_VIOLATIONS_RECORDED VARCHAR2 (64) , \n",
    "     REVENUE_RANGE                     VARCHAR2 (64) , \n",
    "     COMMUNITY_IMPACT_SCORE            NUMBER \n",
    "    ) \n",
    "\"\"\")"
   ]
  },
  {
   "cell_type": "code",
   "execution_count": 10,
   "id": "b6125bd4",
   "metadata": {},
   "outputs": [
    {
     "data": {
      "text/html": [
       "<div>\n",
       "<style scoped>\n",
       "    .dataframe tbody tr th:only-of-type {\n",
       "        vertical-align: middle;\n",
       "    }\n",
       "\n",
       "    .dataframe tbody tr th {\n",
       "        vertical-align: top;\n",
       "    }\n",
       "\n",
       "    .dataframe thead th {\n",
       "        text-align: right;\n",
       "    }\n",
       "</style>\n",
       "<table border=\"1\" class=\"dataframe\">\n",
       "  <thead>\n",
       "    <tr style=\"text-align: right;\">\n",
       "      <th></th>\n",
       "      <th>id</th>\n",
       "      <th>training_data_type</th>\n",
       "      <th>question</th>\n",
       "      <th>content</th>\n",
       "    </tr>\n",
       "  </thead>\n",
       "  <tbody>\n",
       "    <tr>\n",
       "      <th>0</th>\n",
       "      <td>33304-ddl</td>\n",
       "      <td>ddl</td>\n",
       "      <td>NaN</td>\n",
       "      <td>\\nCREATE TABLE DCC_DATA_1 \\n    ( \\n     DATE_...</td>\n",
       "    </tr>\n",
       "  </tbody>\n",
       "</table>\n",
       "</div>"
      ],
      "text/plain": [
       "          id training_data_type  question  \\\n",
       "0  33304-ddl                ddl       NaN   \n",
       "\n",
       "                                             content  \n",
       "0  \\nCREATE TABLE DCC_DATA_1 \\n    ( \\n     DATE_...  "
      ]
     },
     "execution_count": 10,
     "metadata": {},
     "output_type": "execute_result"
    }
   ],
   "source": [
    "training_data = vn.get_training_data()\n",
    "training_data"
   ]
  },
  {
   "cell_type": "markdown",
   "id": "f20d86a0",
   "metadata": {},
   "source": [
    "## **Example questions**"
   ]
  },
  {
   "cell_type": "code",
   "execution_count": null,
   "id": "8c0dd631",
   "metadata": {},
   "outputs": [],
   "source": [
    "vn.ask(question=\"What is the information for all data entries where the number of employees is greater 5\")"
   ]
  },
  {
   "cell_type": "code",
   "execution_count": 35,
   "id": "48101c9d",
   "metadata": {},
   "outputs": [
    {
     "name": "stdout",
     "output_type": "stream",
     "text": [
      "SELECT REGION, SUM(NUMBER_OF_EMPLOYEES) AS TOTAL_EMPLOYEES\n",
      "FROM DCC_DATA_1\n",
      "GROUP BY REGION;\n",
      "Couldn't run sql:  'DataFrame' object is not callable\n"
     ]
    }
   ],
   "source": [
    "vn.ask(question=\"List the number of employees per region\")"
   ]
  },
  {
   "cell_type": "markdown",
   "id": "6cdd5fcd",
   "metadata": {},
   "source": [
    "## **Example questions + Query and dataframe on Oracle ADW**"
   ]
  },
  {
   "cell_type": "code",
   "execution_count": 73,
   "id": "45d98a24",
   "metadata": {},
   "outputs": [],
   "source": [
    "question = \"List the number of employees per region\""
   ]
  },
  {
   "cell_type": "code",
   "execution_count": 65,
   "id": "096ccd4c",
   "metadata": {},
   "outputs": [],
   "source": [
    "question = \"What is the community score for each region? Rank by date\""
   ]
  },
  {
   "cell_type": "code",
   "execution_count": 71,
   "id": "ff8274ef",
   "metadata": {},
   "outputs": [],
   "source": [
    "question = \"Which business activity has the largest annual fee?\""
   ]
  },
  {
   "cell_type": "code",
   "execution_count": 74,
   "id": "547a3a7a",
   "metadata": {},
   "outputs": [
    {
     "name": "stdout",
     "output_type": "stream",
     "text": [
      "Couldn't run sql:  'DataFrame' object is not callable\n",
      "SELECT REGION, SUM(NUMBER_OF_EMPLOYEES) AS TOTAL_EMPLOYEES FROM DCC_DATA_1 GROUP BY REGION\n"
     ]
    },
    {
     "data": {
      "text/html": [
       "<div>\n",
       "<style scoped>\n",
       "    .dataframe tbody tr th:only-of-type {\n",
       "        vertical-align: middle;\n",
       "    }\n",
       "\n",
       "    .dataframe tbody tr th {\n",
       "        vertical-align: top;\n",
       "    }\n",
       "\n",
       "    .dataframe thead th {\n",
       "        text-align: right;\n",
       "    }\n",
       "</style>\n",
       "<table border=\"1\" class=\"dataframe\">\n",
       "  <thead>\n",
       "    <tr style=\"text-align: right;\">\n",
       "      <th></th>\n",
       "      <th>REGION</th>\n",
       "      <th>TOTAL_EMPLOYEES</th>\n",
       "    </tr>\n",
       "  </thead>\n",
       "  <tbody>\n",
       "    <tr>\n",
       "      <th>0</th>\n",
       "      <td>Business Bay</td>\n",
       "      <td>2603</td>\n",
       "    </tr>\n",
       "    <tr>\n",
       "      <th>1</th>\n",
       "      <td>Downtown Dubai</td>\n",
       "      <td>2922</td>\n",
       "    </tr>\n",
       "    <tr>\n",
       "      <th>2</th>\n",
       "      <td>Deira</td>\n",
       "      <td>2656</td>\n",
       "    </tr>\n",
       "    <tr>\n",
       "      <th>3</th>\n",
       "      <td>Jumeirah</td>\n",
       "      <td>2214</td>\n",
       "    </tr>\n",
       "    <tr>\n",
       "      <th>4</th>\n",
       "      <td>Dubai Marina</td>\n",
       "      <td>2710</td>\n",
       "    </tr>\n",
       "  </tbody>\n",
       "</table>\n",
       "</div>"
      ],
      "text/plain": [
       "           REGION  TOTAL_EMPLOYEES\n",
       "0    Business Bay             2603\n",
       "1  Downtown Dubai             2922\n",
       "2           Deira             2656\n",
       "3        Jumeirah             2214\n",
       "4    Dubai Marina             2710"
      ]
     },
     "execution_count": 74,
     "metadata": {},
     "output_type": "execute_result"
    }
   ],
   "source": [
    "save_results = vn.ask(question=question, print_results = False)\n",
    "save_results_list = list(save_results)\n",
    "clean_query = save_results_list[0].replace(\"\\n\", \" \")\n",
    "clean_query = clean_query.replace(\";\", \"\")\n",
    "print(clean_query)\n",
    "\n",
    "#query db\n",
    "df_from_question = vn.run_sql = run_sql(clean_query)\n",
    "df_from_question"
   ]
  },
  {
   "cell_type": "code",
   "execution_count": null,
   "id": "1cd36d29",
   "metadata": {},
   "outputs": [],
   "source": []
  },
  {
   "cell_type": "code",
   "execution_count": null,
   "id": "b810ba70",
   "metadata": {},
   "outputs": [],
   "source": []
  }
 ],
 "metadata": {
  "kernelspec": {
   "display_name": "Python [conda env:pytorch20_p39_gpu_v2]",
   "language": "python",
   "name": "conda-env-pytorch20_p39_gpu_v2-py"
  },
  "language_info": {
   "codemirror_mode": {
    "name": "ipython",
    "version": 3
   },
   "file_extension": ".py",
   "mimetype": "text/x-python",
   "name": "python",
   "nbconvert_exporter": "python",
   "pygments_lexer": "ipython3",
   "version": "3.9.16"
  }
 },
 "nbformat": 4,
 "nbformat_minor": 5
}
